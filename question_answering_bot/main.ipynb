{
 "cells": [
  {
   "cell_type": "code",
   "execution_count": null,
   "metadata": {},
   "outputs": [],
   "source": [
    "from tensorflow import keras\n",
    "import os, pickle, numpy\n",
    "import numpy as np\n",
    "\n"
   ]
  },
  {
   "cell_type": "markdown",
   "metadata": {},
   "source": [
    "# Import Train and Test datasets"
   ]
  },
  {
   "cell_type": "code",
   "execution_count": null,
   "metadata": {},
   "outputs": [],
   "source": [
    "with open('train_qa.txt','rb') as file:\n",
    "    train_data = pickle.load(file)\n",
    "print('----------------------------------------------------------------------')\n",
    "print(f'Train data len: {len(train_data)}')\n",
    "\n",
    "with open('test_qa.txt','rb') as file:\n",
    "    test_data = pickle.load(file)\n",
    "print('----------------------------------------------------------------------')\n",
    "print(f'Test data len: {len(test_data)}')\n",
    "print('----------------------------------------------------------------------')"
   ]
  },
  {
   "cell_type": "markdown",
   "metadata": {},
   "source": [
    "# Data structure"
   ]
  },
  {
   "cell_type": "code",
   "execution_count": null,
   "metadata": {},
   "outputs": [],
   "source": [
    "x = 3\n",
    "print(f'Set {x}')\n",
    "print('----------------------------------------------------------------------')\n",
    "print('Story:',' '.join(train_data[x-1][0]))\n",
    "print('----------------------------------------------------------------------')\n",
    "print('Question:',' '.join(train_data[x-1][1]))\n",
    "print('----------------------------------------------------------------------')\n",
    "print('Answer:',train_data[x-1][2])\n",
    "print('----------------------------------------------------------------------')\n"
   ]
  },
  {
   "cell_type": "markdown",
   "metadata": {},
   "source": [
    "# Create a vocabulary"
   ]
  },
  {
   "cell_type": "markdown",
   "metadata": {},
   "source": [
    "This is unique for this particular dataset"
   ]
  },
  {
   "cell_type": "code",
   "execution_count": null,
   "metadata": {},
   "outputs": [],
   "source": [
    "all_data = test_data + train_data\n",
    "len(all_data)"
   ]
  },
  {
   "cell_type": "code",
   "execution_count": null,
   "metadata": {},
   "outputs": [],
   "source": [
    "vocabulary = set()\n",
    "\n",
    "# add unique words to vocabulary\n",
    "for story, question, answer in all_data:\n",
    "    vocabulary = vocabulary.union(set(story))\n",
    "    vocabulary = vocabulary.union(set(question))\n",
    "\n",
    "vocabulary.add('no')\n",
    "vocabulary.add('yes')\n",
    "\n",
    "vocab_size = len(vocabulary)+1 # +1 because in keras paddind function it is required to have a placeholder\n",
    "\n",
    "print('Total number of unique words in questions and stories:',vocab_size-1)\n",
    "vocabulary"
   ]
  },
  {
   "cell_type": "markdown",
   "metadata": {},
   "source": [
    "# Check the longest story and longest question"
   ]
  },
  {
   "cell_type": "code",
   "execution_count": null,
   "metadata": {},
   "outputs": [],
   "source": [
    "stories = []\n",
    "questions = []\n",
    "\n",
    "for story, question, answer in all_data:\n",
    "    stories.append(len(story))\n",
    "    questions.append(len(question))\n",
    "\n",
    "max_story_len = max(stories)\n",
    "max_question_len = max(questions)\n",
    "\n",
    "print('Max story length is:', max_story_len,'words')\n",
    "print('Max question length is:',max_question_len,'words')"
   ]
  },
  {
   "cell_type": "markdown",
   "metadata": {},
   "source": [
    "# Tokenize data"
   ]
  },
  {
   "cell_type": "code",
   "execution_count": null,
   "metadata": {},
   "outputs": [],
   "source": [
    "from tensorflow.keras.preprocessing.text import Tokenizer\n"
   ]
  },
  {
   "cell_type": "code",
   "execution_count": null,
   "metadata": {},
   "outputs": [],
   "source": [
    "tokenizer = Tokenizer(filters=[]) # because all sighs are important\n",
    "tokenizer.fit_on_texts(vocabulary)\n",
    "tokenizer.word_index"
   ]
  },
  {
   "cell_type": "code",
   "execution_count": null,
   "metadata": {},
   "outputs": [],
   "source": [
    "from tensorflow.keras.preprocessing.sequence import pad_sequences\n",
    "\n",
    "def vectorize_data(data,\n",
    "                    word_index,\n",
    "                    max_story_len,\n",
    "                    max_question_len):\n",
    "\n",
    "    stories = []\n",
    "    questions = []\n",
    "\n",
    "    answers = []\n",
    "\n",
    "    for story, question, answer in data:\n",
    "        stories_part = [word_index[word.lower()] for word in story]         # return index of each word according to their position in word index for stories\n",
    "        questions_part = [word_index[word.lower()] for word in question]    # return index of each word according to their position in word index for questions\n",
    "\n",
    "        answers_part = np.zeros(len(word_index)+1)                          # placeholder\n",
    "        answers_part[word_index[answer]] = 1                                # in the index position of 'yes' or 'no' put 1 \n",
    "\n",
    "        stories.append(stories_part)\n",
    "        questions.append(questions_part)\n",
    "        answers.append(answers_part)\n",
    "\n",
    "    return (pad_sequences(stories,maxlen=max_story_len),pad_sequences(questions,maxlen=max_question_len),np.array(answers))     # return padded data\n",
    "\n",
    "\n",
    "    "
   ]
  },
  {
   "cell_type": "markdown",
   "metadata": {},
   "source": [
    "# Create padded train and test data"
   ]
  },
  {
   "cell_type": "code",
   "execution_count": null,
   "metadata": {},
   "outputs": [],
   "source": [
    "inputs_train, questions_train, answers_train = vectorize_data(train_data,word_index=tokenizer.word_index, max_story_len=max_story_len,max_question_len=max_question_len)\n",
    "inputs_test, questions_test, answers_test = vectorize_data(test_data,word_index=tokenizer.word_index, max_story_len=max_story_len,max_question_len=max_question_len)"
   ]
  },
  {
   "cell_type": "code",
   "execution_count": null,
   "metadata": {},
   "outputs": [],
   "source": [
    "print('inputs_train shape:',inputs_train.shape, 'questions_train shape:',questions_train.shape,'answers_train shape:', answers_train.shape)\n",
    "print()\n",
    "print('inputs_test shape:',inputs_test.shape, 'questions_test shape:',questions_test.shape,'answers_test shape:', answers_test.shape)"
   ]
  },
  {
   "cell_type": "markdown",
   "metadata": {},
   "source": [
    "# Import and instatiate model"
   ]
  },
  {
   "cell_type": "code",
   "execution_count": null,
   "metadata": {},
   "outputs": [],
   "source": [
    "from memory_network import memory_network\n",
    "\n",
    "model = memory_network(max_story_len,max_question_len,vocab_size,optimizer='rmsprop',model_name='memory_network2')"
   ]
  },
  {
   "cell_type": "markdown",
   "metadata": {},
   "source": [
    "# Create a model"
   ]
  },
  {
   "cell_type": "code",
   "execution_count": null,
   "metadata": {},
   "outputs": [],
   "source": [
    "callbacks = [\n",
    "            keras.callbacks.ModelCheckpoint(filepath=f'model_checkpoints/{model.name}.h5',save_best_only=True),\n",
    "            keras.callbacks.ReduceLROnPlateau(monitor='val_loss', patience=10, factor=0.1, verbose=2, min_lr=1e-6),\n",
    "            keras.callbacks.EarlyStopping(monitor='val_loss',patience=15)\n",
    "            ]"
   ]
  },
  {
   "cell_type": "markdown",
   "metadata": {},
   "source": [
    "# Training is surprisingly tricky part, remember not to train using GPU, model has to be trained in a sequential manner not parallel, so use CPU instead"
   ]
  },
  {
   "cell_type": "code",
   "execution_count": null,
   "metadata": {},
   "outputs": [],
   "source": [
    "history = model.fit([inputs_train, questions_train], \n",
    "                    answers_train,\n",
    "                    batch_size=32,\n",
    "                    epochs=1200,\n",
    "                    validation_data=([inputs_test, questions_test], \n",
    "                    answers_test),\n",
    "                    callbacks = callbacks)"
   ]
  },
  {
   "cell_type": "markdown",
   "metadata": {},
   "source": [
    "# Check what model has learned"
   ]
  },
  {
   "cell_type": "code",
   "execution_count": 26,
   "metadata": {},
   "outputs": [],
   "source": [
    "def generate_question():\n",
    "    import random\n",
    "\n",
    "    x = random.randint(a=1,b=len(test_data))\n",
    "\n",
    "    print('Story:',' '.join(test_data[x-1][0]))\n",
    "    s = test_data[x-1][0]\n",
    "    print('Question:',' '.join(test_data[x-1][1]))\n",
    "    q = test_data[x-1][1]\n",
    "    print('Answer:',test_data[x-1][2])\n",
    "    a = test_data[x-1][2]\n",
    "\n",
    "    return s, q, a, [(test_data[x-1])]\n"
   ]
  },
  {
   "cell_type": "code",
   "execution_count": 42,
   "metadata": {},
   "outputs": [
    {
     "name": "stdout",
     "output_type": "stream",
     "text": [
      "Story: Daniel went back to the kitchen . Mary grabbed the apple there . Daniel journeyed to the office . John went back to the office . Mary left the apple . Daniel went to the hallway . John went to the hallway . Daniel picked up the milk there .\n",
      "Question: Is John in the kitchen ?\n",
      "Answer: no\n",
      "Predicted answer is:  no\n",
      "Probability of certainty was:  99.88 %\n"
     ]
    }
   ],
   "source": [
    "_,_,_,question = generate_question()\n",
    "\n",
    "my_story,my_ques,my_ans = vectorize_data(question, tokenizer.word_index,max_story_len,max_question_len)\n",
    "\n",
    "pred_results = model.predict(([ my_story, my_ques]))\n",
    "\n",
    "yes_prob = pred_results[0][tokenizer.word_index['yes']]\n",
    "no_prob = pred_results[0][tokenizer.word_index['no']]\n",
    "\n",
    "if yes_prob > no_prob:\n",
    "    k = 'yes'\n",
    "    prob = yes_prob\n",
    "else:\n",
    "    k = 'no'\n",
    "    prob = no_prob\n",
    "\n",
    "print(\"Predicted answer is: \", k)\n",
    "print(\"Probability of certainty was: \", round(prob*100,2),\"%\")"
   ]
  },
  {
   "cell_type": "code",
   "execution_count": null,
   "metadata": {},
   "outputs": [],
   "source": []
  }
 ],
 "metadata": {
  "kernelspec": {
   "display_name": "Python 3.9.7 ('img_segm')",
   "language": "python",
   "name": "python3"
  },
  "language_info": {
   "codemirror_mode": {
    "name": "ipython",
    "version": 3
   },
   "file_extension": ".py",
   "mimetype": "text/x-python",
   "name": "python",
   "nbconvert_exporter": "python",
   "pygments_lexer": "ipython3",
   "version": "3.9.7"
  },
  "vscode": {
   "interpreter": {
    "hash": "04ca880ce40069ce8f36ccd8cb392070a7c85cba889522ab68d2ccd5021993db"
   }
  }
 },
 "nbformat": 4,
 "nbformat_minor": 2
}
